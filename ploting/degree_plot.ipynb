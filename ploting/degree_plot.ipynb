{
 "cells": [
  {
   "cell_type": "code",
   "execution_count": 1,
   "metadata": {},
   "outputs": [],
   "source": [
    "# This is query for the Gini Coefficient template\n",
    "import pandas as pd\n",
    "import glob\n",
    "import matplotlib.pyplot as plt"
   ]
  },
  {
   "cell_type": "code",
   "execution_count": 2,
   "metadata": {},
   "outputs": [],
   "source": [
    "# Path for all the results\n",
    "path=\"/mnt/indexer-build/migrated_data/curated/weekly_degree/\""
   ]
  },
  {
   "cell_type": "code",
   "execution_count": 3,
   "metadata": {},
   "outputs": [],
   "source": [
    "def extractorYear(year):\n",
    "    return(int(str(year)[:4]))"
   ]
  },
  {
   "cell_type": "code",
   "execution_count": 4,
   "metadata": {},
   "outputs": [],
   "source": [
    "def extractorWeek(year):\n",
    "    return(int(str(year)[4:]))"
   ]
  },
  {
   "cell_type": "code",
   "execution_count": 7,
   "metadata": {},
   "outputs": [],
   "source": [
    "all_files = glob.glob(path + \"/*.csv\")\n",
    "\n",
    "li = []\n",
    "\n",
    "for filename in all_files:\n",
    "    df = pd.read_csv(filename, index_col=None, header=0)\n",
    "    li.append(df)\n",
    "\n",
    "frame = pd.concat(li, axis=0, ignore_index=True)"
   ]
  },
  {
   "cell_type": "code",
   "execution_count": 8,
   "metadata": {},
   "outputs": [
    {
     "data": {
      "text/html": [
       "<div>\n",
       "<style scoped>\n",
       "    .dataframe tbody tr th:only-of-type {\n",
       "        vertical-align: middle;\n",
       "    }\n",
       "\n",
       "    .dataframe tbody tr th {\n",
       "        vertical-align: top;\n",
       "    }\n",
       "\n",
       "    .dataframe thead th {\n",
       "        text-align: right;\n",
       "    }\n",
       "</style>\n",
       "<table border=\"1\" class=\"dataframe\">\n",
       "  <thead>\n",
       "    <tr style=\"text-align: right;\">\n",
       "      <th></th>\n",
       "      <th>Year_no</th>\n",
       "      <th>Week_no</th>\n",
       "      <th>SenderId</th>\n",
       "      <th>TargetCount</th>\n",
       "      <th>Sum_Amount</th>\n",
       "    </tr>\n",
       "  </thead>\n",
       "  <tbody>\n",
       "    <tr>\n",
       "      <th>0</th>\n",
       "      <td>2020</td>\n",
       "      <td>43</td>\n",
       "      <td>277134</td>\n",
       "      <td>2</td>\n",
       "      <td>6010000000</td>\n",
       "    </tr>\n",
       "    <tr>\n",
       "      <th>1</th>\n",
       "      <td>2021</td>\n",
       "      <td>19</td>\n",
       "      <td>1415085</td>\n",
       "      <td>1</td>\n",
       "      <td>103620000</td>\n",
       "    </tr>\n",
       "    <tr>\n",
       "      <th>2</th>\n",
       "      <td>2022</td>\n",
       "      <td>18</td>\n",
       "      <td>1940083</td>\n",
       "      <td>6</td>\n",
       "      <td>1000000</td>\n",
       "    </tr>\n",
       "    <tr>\n",
       "      <th>3</th>\n",
       "      <td>2020</td>\n",
       "      <td>33</td>\n",
       "      <td>715797</td>\n",
       "      <td>5</td>\n",
       "      <td>2132658179</td>\n",
       "    </tr>\n",
       "    <tr>\n",
       "      <th>4</th>\n",
       "      <td>2021</td>\n",
       "      <td>21</td>\n",
       "      <td>1482677</td>\n",
       "      <td>2</td>\n",
       "      <td>100000000</td>\n",
       "    </tr>\n",
       "    <tr>\n",
       "      <th>...</th>\n",
       "      <td>...</td>\n",
       "      <td>...</td>\n",
       "      <td>...</td>\n",
       "      <td>...</td>\n",
       "      <td>...</td>\n",
       "    </tr>\n",
       "    <tr>\n",
       "      <th>3045209</th>\n",
       "      <td>2022</td>\n",
       "      <td>30</td>\n",
       "      <td>1839622</td>\n",
       "      <td>1</td>\n",
       "      <td>80000000</td>\n",
       "    </tr>\n",
       "    <tr>\n",
       "      <th>3045210</th>\n",
       "      <td>2022</td>\n",
       "      <td>2</td>\n",
       "      <td>2371288</td>\n",
       "      <td>1</td>\n",
       "      <td>2100000</td>\n",
       "    </tr>\n",
       "    <tr>\n",
       "      <th>3045211</th>\n",
       "      <td>2022</td>\n",
       "      <td>24</td>\n",
       "      <td>2634411</td>\n",
       "      <td>1</td>\n",
       "      <td>4000000</td>\n",
       "    </tr>\n",
       "    <tr>\n",
       "      <th>3045212</th>\n",
       "      <td>2022</td>\n",
       "      <td>31</td>\n",
       "      <td>2895292</td>\n",
       "      <td>1</td>\n",
       "      <td>7822000</td>\n",
       "    </tr>\n",
       "    <tr>\n",
       "      <th>3045213</th>\n",
       "      <td>2022</td>\n",
       "      <td>33</td>\n",
       "      <td>2906324</td>\n",
       "      <td>1</td>\n",
       "      <td>24629200</td>\n",
       "    </tr>\n",
       "  </tbody>\n",
       "</table>\n",
       "<p>3045214 rows × 5 columns</p>\n",
       "</div>"
      ],
      "text/plain": [
       "         Year_no  Week_no  SenderId  TargetCount  Sum_Amount\n",
       "0           2020       43    277134            2  6010000000\n",
       "1           2021       19   1415085            1   103620000\n",
       "2           2022       18   1940083            6     1000000\n",
       "3           2020       33    715797            5  2132658179\n",
       "4           2021       21   1482677            2   100000000\n",
       "...          ...      ...       ...          ...         ...\n",
       "3045209     2022       30   1839622            1    80000000\n",
       "3045210     2022        2   2371288            1     2100000\n",
       "3045211     2022       24   2634411            1     4000000\n",
       "3045212     2022       31   2895292            1     7822000\n",
       "3045213     2022       33   2906324            1    24629200\n",
       "\n",
       "[3045214 rows x 5 columns]"
      ]
     },
     "execution_count": 8,
     "metadata": {},
     "output_type": "execute_result"
    }
   ],
   "source": [
    "frame"
   ]
  },
  {
   "cell_type": "code",
   "execution_count": 7,
   "metadata": {},
   "outputs": [],
   "source": [
    "frame[\"year\"]=frame.time_week.apply(extractorYear)\n",
    "frame[\"week\"]=frame.time_week.apply(extractorWeek)\n",
    "final = frame.sort_values(by=['year','week'])"
   ]
  },
  {
   "cell_type": "code",
   "execution_count": 8,
   "metadata": {},
   "outputs": [
    {
     "data": {
      "text/html": [
       "<div>\n",
       "<style scoped>\n",
       "    .dataframe tbody tr th:only-of-type {\n",
       "        vertical-align: middle;\n",
       "    }\n",
       "\n",
       "    .dataframe tbody tr th {\n",
       "        vertical-align: top;\n",
       "    }\n",
       "\n",
       "    .dataframe thead th {\n",
       "        text-align: right;\n",
       "    }\n",
       "</style>\n",
       "<table border=\"1\" class=\"dataframe\">\n",
       "  <thead>\n",
       "    <tr style=\"text-align: right;\">\n",
       "      <th></th>\n",
       "      <th>max_count</th>\n",
       "      <th>time_week</th>\n",
       "      <th>Total_Vertices</th>\n",
       "      <th>year</th>\n",
       "      <th>week</th>\n",
       "    </tr>\n",
       "  </thead>\n",
       "  <tbody>\n",
       "    <tr>\n",
       "      <th>164</th>\n",
       "      <td>1</td>\n",
       "      <td>20181</td>\n",
       "      <td>1985</td>\n",
       "      <td>2018</td>\n",
       "      <td>1</td>\n",
       "    </tr>\n",
       "    <tr>\n",
       "      <th>122</th>\n",
       "      <td>1</td>\n",
       "      <td>201826</td>\n",
       "      <td>34</td>\n",
       "      <td>2018</td>\n",
       "      <td>26</td>\n",
       "    </tr>\n",
       "    <tr>\n",
       "      <th>39</th>\n",
       "      <td>30</td>\n",
       "      <td>201827</td>\n",
       "      <td>1738</td>\n",
       "      <td>2018</td>\n",
       "      <td>27</td>\n",
       "    </tr>\n",
       "    <tr>\n",
       "      <th>117</th>\n",
       "      <td>12</td>\n",
       "      <td>201828</td>\n",
       "      <td>1205</td>\n",
       "      <td>2018</td>\n",
       "      <td>28</td>\n",
       "    </tr>\n",
       "    <tr>\n",
       "      <th>143</th>\n",
       "      <td>6</td>\n",
       "      <td>201829</td>\n",
       "      <td>1337</td>\n",
       "      <td>2018</td>\n",
       "      <td>29</td>\n",
       "    </tr>\n",
       "    <tr>\n",
       "      <th>...</th>\n",
       "      <td>...</td>\n",
       "      <td>...</td>\n",
       "      <td>...</td>\n",
       "      <td>...</td>\n",
       "      <td>...</td>\n",
       "    </tr>\n",
       "    <tr>\n",
       "      <th>79</th>\n",
       "      <td>2005</td>\n",
       "      <td>202231</td>\n",
       "      <td>130993</td>\n",
       "      <td>2022</td>\n",
       "      <td>31</td>\n",
       "    </tr>\n",
       "    <tr>\n",
       "      <th>108</th>\n",
       "      <td>1720</td>\n",
       "      <td>202232</td>\n",
       "      <td>129608</td>\n",
       "      <td>2022</td>\n",
       "      <td>32</td>\n",
       "    </tr>\n",
       "    <tr>\n",
       "      <th>87</th>\n",
       "      <td>2207</td>\n",
       "      <td>202233</td>\n",
       "      <td>131052</td>\n",
       "      <td>2022</td>\n",
       "      <td>33</td>\n",
       "    </tr>\n",
       "    <tr>\n",
       "      <th>5</th>\n",
       "      <td>543</td>\n",
       "      <td>202234</td>\n",
       "      <td>115912</td>\n",
       "      <td>2022</td>\n",
       "      <td>34</td>\n",
       "    </tr>\n",
       "    <tr>\n",
       "      <th>145</th>\n",
       "      <td>325</td>\n",
       "      <td>202252</td>\n",
       "      <td>37505</td>\n",
       "      <td>2022</td>\n",
       "      <td>52</td>\n",
       "    </tr>\n",
       "  </tbody>\n",
       "</table>\n",
       "<p>221 rows × 5 columns</p>\n",
       "</div>"
      ],
      "text/plain": [
       "    max_count time_week Total_Vertices  year  week\n",
       "164         1     20181           1985  2018     1\n",
       "122         1    201826             34  2018    26\n",
       "39         30    201827           1738  2018    27\n",
       "117        12    201828           1205  2018    28\n",
       "143         6    201829           1337  2018    29\n",
       "..        ...       ...            ...   ...   ...\n",
       "79       2005    202231         130993  2022    31\n",
       "108      1720    202232         129608  2022    32\n",
       "87       2207    202233         131052  2022    33\n",
       "5         543    202234         115912  2022    34\n",
       "145       325    202252          37505  2022    52\n",
       "\n",
       "[221 rows x 5 columns]"
      ]
     },
     "execution_count": 8,
     "metadata": {},
     "output_type": "execute_result"
    }
   ],
   "source": [
    "final"
   ]
  },
  {
   "cell_type": "code",
   "execution_count": 10,
   "metadata": {},
   "outputs": [
    {
     "data": {
      "text/plain": [
       "<AxesSubplot: xlabel='date'>"
      ]
     },
     "execution_count": 10,
     "metadata": {},
     "output_type": "execute_result"
    },
    {
     "data": {
      "image/png": "[encoded data removed]",
      "text/plain": [
       "<Figure size 640x480 with 1 Axes>"
      ]
     },
     "metadata": {},
     "output_type": "display_data"
    }
   ],
   "source": [
    "# Determine the date\n",
    "final['date'] = pd.to_datetime(final.assign(day=1, month=1)[['year', 'month', 'day']])+pd.to_timedelta(final.week*7, unit='days')\n",
    "\n",
    "# Plot\n",
    "fig, ax = plt.subplots()\n",
    "final.plot(x='date', y='max_count', ax=ax)"
   ]
  },
  {
   "cell_type": "code",
   "execution_count": null,
   "metadata": {},
   "outputs": [],
   "source": []
  }
 ],
 "metadata": {
  "kernelspec": {
   "display_name": "Python 3.9.6 64-bit",
   "language": "python",
   "name": "python3"
  },
  "language_info": {
   "codemirror_mode": {
    "name": "ipython",
    "version": 3
   },
   "file_extension": ".py",
   "mimetype": "text/x-python",
   "name": "python",
   "nbconvert_exporter": "python",
   "pygments_lexer": "ipython3",
   "version": "3.8.10"
  },
  "orig_nbformat": 4,
  "vscode": {
   "interpreter": {
    "hash": "31f2aee4e71d21fbe5cf8b01ff0e069b9275f58929596ceb00d14d90e3e16cd6"
   }
  }
 },
 "nbformat": 4,
 "nbformat_minor": 2
}
